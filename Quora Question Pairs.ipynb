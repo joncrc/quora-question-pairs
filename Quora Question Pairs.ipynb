{
 "cells": [
  {
   "cell_type": "markdown",
   "metadata": {
    "deletable": true,
    "editable": true
   },
   "source": [
    "# Quora Question Pairs\n",
    "\n",
    "## Quck view on the data"
   ]
  },
  {
   "cell_type": "code",
   "execution_count": 1,
   "metadata": {
    "collapsed": false,
    "deletable": true,
    "editable": true
   },
   "outputs": [],
   "source": [
    "import numpy as np # linear algebra\n",
    "import pandas as pd # data processing, CSV file I/O (e.g. pd.read_csv)\n",
    "import os\n",
    "import gc\n",
    "import matplotlib.pyplot as plt\n",
    "import seaborn as sns\n",
    "%matplotlib inline\n",
    "\n",
    "pal = sns.color_palette()"
   ]
  },
  {
   "cell_type": "code",
   "execution_count": 2,
   "metadata": {
    "collapsed": false,
    "deletable": true,
    "editable": true
   },
   "outputs": [
    {
     "name": "stdout",
     "output_type": "stream",
     "text": [
      "# File sizes\n",
      "sample_submission.csv         22.35MB\n",
      "test.csv                      314.02MB\n",
      "train.csv                     63.4MB\n"
     ]
    }
   ],
   "source": [
    "print('# File sizes')\n",
    "for f in os.listdir('input'):\n",
    "    if 'zip' not in f:\n",
    "        print(f.ljust(30) + str(round(os.path.getsize('input/' + f) / 1000000, 2)) + 'MB')"
   ]
  },
  {
   "cell_type": "code",
   "execution_count": 21,
   "metadata": {
    "collapsed": false,
    "deletable": true,
    "editable": true
   },
   "outputs": [],
   "source": [
    "df_train = pd.read_csv(\"input/train.csv\")\n",
    "#df_test = pd.read_csv(\"input/test.csv\")"
   ]
  },
  {
   "cell_type": "code",
   "execution_count": 4,
   "metadata": {
    "collapsed": false,
    "deletable": true,
    "editable": true
   },
   "outputs": [
    {
     "name": "stdout",
     "output_type": "stream",
     "text": [
      "(404290, 6)\n",
      "(2345796, 3)\n"
     ]
    }
   ],
   "source": [
    "print(df_train.shape)\n",
    "print(df_test.shape)"
   ]
  },
  {
   "cell_type": "code",
   "execution_count": 5,
   "metadata": {
    "collapsed": false,
    "deletable": true,
    "editable": true
   },
   "outputs": [
    {
     "data": {
      "text/html": [
       "<div>\n",
       "<table border=\"1\" class=\"dataframe\">\n",
       "  <thead>\n",
       "    <tr style=\"text-align: right;\">\n",
       "      <th></th>\n",
       "      <th>id</th>\n",
       "      <th>qid1</th>\n",
       "      <th>qid2</th>\n",
       "      <th>question1</th>\n",
       "      <th>question2</th>\n",
       "      <th>is_duplicate</th>\n",
       "    </tr>\n",
       "  </thead>\n",
       "  <tbody>\n",
       "    <tr>\n",
       "      <th>404285</th>\n",
       "      <td>404285</td>\n",
       "      <td>433578</td>\n",
       "      <td>379845</td>\n",
       "      <td>How many keywords are there in the Racket prog...</td>\n",
       "      <td>How many keywords are there in PERL Programmin...</td>\n",
       "      <td>0</td>\n",
       "    </tr>\n",
       "    <tr>\n",
       "      <th>404286</th>\n",
       "      <td>404286</td>\n",
       "      <td>18840</td>\n",
       "      <td>155606</td>\n",
       "      <td>Do you believe there is life after death?</td>\n",
       "      <td>Is it true that there is life after death?</td>\n",
       "      <td>1</td>\n",
       "    </tr>\n",
       "    <tr>\n",
       "      <th>404287</th>\n",
       "      <td>404287</td>\n",
       "      <td>537928</td>\n",
       "      <td>537929</td>\n",
       "      <td>What is one coin?</td>\n",
       "      <td>What's this coin?</td>\n",
       "      <td>0</td>\n",
       "    </tr>\n",
       "    <tr>\n",
       "      <th>404288</th>\n",
       "      <td>404288</td>\n",
       "      <td>537930</td>\n",
       "      <td>537931</td>\n",
       "      <td>What is the approx annual cost of living while...</td>\n",
       "      <td>I am having little hairfall problem but I want...</td>\n",
       "      <td>0</td>\n",
       "    </tr>\n",
       "    <tr>\n",
       "      <th>404289</th>\n",
       "      <td>404289</td>\n",
       "      <td>537932</td>\n",
       "      <td>537933</td>\n",
       "      <td>What is like to have sex with cousin?</td>\n",
       "      <td>What is it like to have sex with your cousin?</td>\n",
       "      <td>0</td>\n",
       "    </tr>\n",
       "  </tbody>\n",
       "</table>\n",
       "</div>"
      ],
      "text/plain": [
       "            id    qid1    qid2  \\\n",
       "404285  404285  433578  379845   \n",
       "404286  404286   18840  155606   \n",
       "404287  404287  537928  537929   \n",
       "404288  404288  537930  537931   \n",
       "404289  404289  537932  537933   \n",
       "\n",
       "                                                question1  \\\n",
       "404285  How many keywords are there in the Racket prog...   \n",
       "404286          Do you believe there is life after death?   \n",
       "404287                                  What is one coin?   \n",
       "404288  What is the approx annual cost of living while...   \n",
       "404289              What is like to have sex with cousin?   \n",
       "\n",
       "                                                question2  is_duplicate  \n",
       "404285  How many keywords are there in PERL Programmin...             0  \n",
       "404286         Is it true that there is life after death?             1  \n",
       "404287                                  What's this coin?             0  \n",
       "404288  I am having little hairfall problem but I want...             0  \n",
       "404289      What is it like to have sex with your cousin?             0  "
      ]
     },
     "execution_count": 5,
     "metadata": {},
     "output_type": "execute_result"
    }
   ],
   "source": [
    "df_train.tail()"
   ]
  },
  {
   "cell_type": "code",
   "execution_count": 3,
   "metadata": {
    "collapsed": false,
    "deletable": true,
    "editable": true
   },
   "outputs": [
    {
     "data": {
      "text/html": [
       "<div>\n",
       "<table border=\"1\" class=\"dataframe\">\n",
       "  <thead>\n",
       "    <tr style=\"text-align: right;\">\n",
       "      <th></th>\n",
       "      <th>test_id</th>\n",
       "      <th>question1</th>\n",
       "      <th>question2</th>\n",
       "    </tr>\n",
       "  </thead>\n",
       "  <tbody>\n",
       "    <tr>\n",
       "      <th>0</th>\n",
       "      <td>0</td>\n",
       "      <td>How does the Surface Pro himself 4 compare wit...</td>\n",
       "      <td>Why did Microsoft choose core m3 and not core ...</td>\n",
       "    </tr>\n",
       "    <tr>\n",
       "      <th>1</th>\n",
       "      <td>1</td>\n",
       "      <td>Should I have a hair transplant at age 24? How...</td>\n",
       "      <td>How much cost does hair transplant require?</td>\n",
       "    </tr>\n",
       "    <tr>\n",
       "      <th>2</th>\n",
       "      <td>2</td>\n",
       "      <td>What but is the best way to send money from Ch...</td>\n",
       "      <td>What you send money to China?</td>\n",
       "    </tr>\n",
       "    <tr>\n",
       "      <th>3</th>\n",
       "      <td>3</td>\n",
       "      <td>Which food not emulsifiers?</td>\n",
       "      <td>What foods fibre?</td>\n",
       "    </tr>\n",
       "    <tr>\n",
       "      <th>4</th>\n",
       "      <td>4</td>\n",
       "      <td>How \"aberystwyth\" start reading?</td>\n",
       "      <td>How their can I start reading?</td>\n",
       "    </tr>\n",
       "  </tbody>\n",
       "</table>\n",
       "</div>"
      ],
      "text/plain": [
       "   test_id                                          question1  \\\n",
       "0        0  How does the Surface Pro himself 4 compare wit...   \n",
       "1        1  Should I have a hair transplant at age 24? How...   \n",
       "2        2  What but is the best way to send money from Ch...   \n",
       "3        3                        Which food not emulsifiers?   \n",
       "4        4                   How \"aberystwyth\" start reading?   \n",
       "\n",
       "                                           question2  \n",
       "0  Why did Microsoft choose core m3 and not core ...  \n",
       "1        How much cost does hair transplant require?  \n",
       "2                      What you send money to China?  \n",
       "3                                  What foods fibre?  \n",
       "4                     How their can I start reading?  "
      ]
     },
     "execution_count": 3,
     "metadata": {},
     "output_type": "execute_result"
    }
   ],
   "source": [
    "df_test.head()"
   ]
  },
  {
   "cell_type": "code",
   "execution_count": 7,
   "metadata": {
    "collapsed": false,
    "deletable": true,
    "editable": true
   },
   "outputs": [
    {
     "data": {
      "text/html": [
       "<div>\n",
       "<table border=\"1\" class=\"dataframe\">\n",
       "  <thead>\n",
       "    <tr style=\"text-align: right;\">\n",
       "      <th></th>\n",
       "      <th>id</th>\n",
       "      <th>qid1</th>\n",
       "      <th>qid2</th>\n",
       "      <th>question1</th>\n",
       "      <th>question2</th>\n",
       "      <th>is_duplicate</th>\n",
       "    </tr>\n",
       "  </thead>\n",
       "  <tbody>\n",
       "    <tr>\n",
       "      <th>9701</th>\n",
       "      <td>9701</td>\n",
       "      <td>18840</td>\n",
       "      <td>18841</td>\n",
       "      <td>Do you believe there is life after death?</td>\n",
       "      <td>Do you believe in life after death?</td>\n",
       "      <td>1</td>\n",
       "    </tr>\n",
       "    <tr>\n",
       "      <th>15933</th>\n",
       "      <td>15933</td>\n",
       "      <td>18840</td>\n",
       "      <td>30400</td>\n",
       "      <td>Do you believe there is life after death?</td>\n",
       "      <td>Do you believe there is death after life?</td>\n",
       "      <td>0</td>\n",
       "    </tr>\n",
       "    <tr>\n",
       "      <th>72711</th>\n",
       "      <td>72711</td>\n",
       "      <td>18840</td>\n",
       "      <td>124883</td>\n",
       "      <td>Do you believe there is life after death?</td>\n",
       "      <td>How would life be after death?</td>\n",
       "      <td>1</td>\n",
       "    </tr>\n",
       "    <tr>\n",
       "      <th>90262</th>\n",
       "      <td>90262</td>\n",
       "      <td>18840</td>\n",
       "      <td>49658</td>\n",
       "      <td>Do you believe there is life after death?</td>\n",
       "      <td>What does life after death look like?</td>\n",
       "      <td>1</td>\n",
       "    </tr>\n",
       "    <tr>\n",
       "      <th>119781</th>\n",
       "      <td>119781</td>\n",
       "      <td>18840</td>\n",
       "      <td>88678</td>\n",
       "      <td>Do you believe there is life after death?</td>\n",
       "      <td>What are the theories as to what happens after...</td>\n",
       "      <td>1</td>\n",
       "    </tr>\n",
       "    <tr>\n",
       "      <th>190902</th>\n",
       "      <td>190902</td>\n",
       "      <td>18840</td>\n",
       "      <td>113929</td>\n",
       "      <td>Do you believe there is life after death?</td>\n",
       "      <td>If there is life after death, why do I live?</td>\n",
       "      <td>1</td>\n",
       "    </tr>\n",
       "    <tr>\n",
       "      <th>232572</th>\n",
       "      <td>232572</td>\n",
       "      <td>18840</td>\n",
       "      <td>59735</td>\n",
       "      <td>Do you believe there is life after death?</td>\n",
       "      <td>Can we ever know if there is life after death?</td>\n",
       "      <td>1</td>\n",
       "    </tr>\n",
       "    <tr>\n",
       "      <th>262681</th>\n",
       "      <td>262681</td>\n",
       "      <td>18840</td>\n",
       "      <td>133237</td>\n",
       "      <td>Do you believe there is life after death?</td>\n",
       "      <td>Is there life after death?</td>\n",
       "      <td>1</td>\n",
       "    </tr>\n",
       "    <tr>\n",
       "      <th>269565</th>\n",
       "      <td>269565</td>\n",
       "      <td>18840</td>\n",
       "      <td>75205</td>\n",
       "      <td>Do you believe there is life after death?</td>\n",
       "      <td>Is there life after death? Can we revive our l...</td>\n",
       "      <td>1</td>\n",
       "    </tr>\n",
       "    <tr>\n",
       "      <th>364460</th>\n",
       "      <td>364460</td>\n",
       "      <td>18840</td>\n",
       "      <td>92133</td>\n",
       "      <td>Do you believe there is life after death?</td>\n",
       "      <td>What is the life after death.?</td>\n",
       "      <td>1</td>\n",
       "    </tr>\n",
       "    <tr>\n",
       "      <th>373708</th>\n",
       "      <td>373708</td>\n",
       "      <td>18840</td>\n",
       "      <td>113928</td>\n",
       "      <td>Do you believe there is life after death?</td>\n",
       "      <td>Is there life after life?</td>\n",
       "      <td>1</td>\n",
       "    </tr>\n",
       "    <tr>\n",
       "      <th>404286</th>\n",
       "      <td>404286</td>\n",
       "      <td>18840</td>\n",
       "      <td>155606</td>\n",
       "      <td>Do you believe there is life after death?</td>\n",
       "      <td>Is it true that there is life after death?</td>\n",
       "      <td>1</td>\n",
       "    </tr>\n",
       "  </tbody>\n",
       "</table>\n",
       "</div>"
      ],
      "text/plain": [
       "            id   qid1    qid2                                  question1  \\\n",
       "9701      9701  18840   18841  Do you believe there is life after death?   \n",
       "15933    15933  18840   30400  Do you believe there is life after death?   \n",
       "72711    72711  18840  124883  Do you believe there is life after death?   \n",
       "90262    90262  18840   49658  Do you believe there is life after death?   \n",
       "119781  119781  18840   88678  Do you believe there is life after death?   \n",
       "190902  190902  18840  113929  Do you believe there is life after death?   \n",
       "232572  232572  18840   59735  Do you believe there is life after death?   \n",
       "262681  262681  18840  133237  Do you believe there is life after death?   \n",
       "269565  269565  18840   75205  Do you believe there is life after death?   \n",
       "364460  364460  18840   92133  Do you believe there is life after death?   \n",
       "373708  373708  18840  113928  Do you believe there is life after death?   \n",
       "404286  404286  18840  155606  Do you believe there is life after death?   \n",
       "\n",
       "                                                question2  is_duplicate  \n",
       "9701                  Do you believe in life after death?             1  \n",
       "15933           Do you believe there is death after life?             0  \n",
       "72711                      How would life be after death?             1  \n",
       "90262               What does life after death look like?             1  \n",
       "119781  What are the theories as to what happens after...             1  \n",
       "190902       If there is life after death, why do I live?             1  \n",
       "232572     Can we ever know if there is life after death?             1  \n",
       "262681                         Is there life after death?             1  \n",
       "269565  Is there life after death? Can we revive our l...             1  \n",
       "364460                     What is the life after death.?             1  \n",
       "373708                          Is there life after life?             1  \n",
       "404286         Is it true that there is life after death?             1  "
      ]
     },
     "execution_count": 7,
     "metadata": {},
     "output_type": "execute_result"
    }
   ],
   "source": [
    "df_train[df_train[\"qid1\"] == 18840]"
   ]
  },
  {
   "cell_type": "code",
   "execution_count": 160,
   "metadata": {
    "collapsed": false,
    "deletable": true,
    "editable": true
   },
   "outputs": [
    {
     "data": {
      "text/html": [
       "<div>\n",
       "<table border=\"1\" class=\"dataframe\">\n",
       "  <thead>\n",
       "    <tr style=\"text-align: right;\">\n",
       "      <th></th>\n",
       "      <th>id</th>\n",
       "      <th>qid1</th>\n",
       "      <th>qid2</th>\n",
       "      <th>question1</th>\n",
       "      <th>question2</th>\n",
       "      <th>is_duplicate</th>\n",
       "    </tr>\n",
       "  </thead>\n",
       "  <tbody>\n",
       "    <tr>\n",
       "      <th>38675</th>\n",
       "      <td>38675</td>\n",
       "      <td>70206</td>\n",
       "      <td>70207</td>\n",
       "      <td>Do banks in Dubai offer credit cards on an AED...</td>\n",
       "      <td>Do banks in Dubai offer credit cards on an AED...</td>\n",
       "      <td>0</td>\n",
       "    </tr>\n",
       "  </tbody>\n",
       "</table>\n",
       "</div>"
      ],
      "text/plain": [
       "          id   qid1   qid2                                          question1  \\\n",
       "38675  38675  70206  70207  Do banks in Dubai offer credit cards on an AED...   \n",
       "\n",
       "                                               question2  is_duplicate  \n",
       "38675  Do banks in Dubai offer credit cards on an AED...             0  "
      ]
     },
     "execution_count": 160,
     "metadata": {},
     "output_type": "execute_result"
    }
   ],
   "source": [
    "df_train[df_train[\"id\"] == 38675]"
   ]
  },
  {
   "cell_type": "markdown",
   "metadata": {
    "deletable": true,
    "editable": true
   },
   "source": [
    "## Preprocess data"
   ]
  },
  {
   "cell_type": "code",
   "execution_count": 4,
   "metadata": {
    "collapsed": false,
    "deletable": true,
    "editable": true
   },
   "outputs": [
    {
     "name": "stdout",
     "output_type": "stream",
     "text": [
      "<class 'pandas.core.series.Series'>\n"
     ]
    },
    {
     "data": {
      "text/plain": [
       "0    What is the step by step guide to invest in sh...\n",
       "1    What is the story of Kohinoor (Koh-i-Noor) Dia...\n",
       "2    How can I increase the speed of my internet co...\n",
       "3    Why am I mentally very lonely? How can I solve...\n",
       "4    Which one dissolve in water quikly sugar, salt...\n",
       "dtype: object"
      ]
     },
     "execution_count": 4,
     "metadata": {},
     "output_type": "execute_result"
    }
   ],
   "source": [
    "qs_train = pd.Series(df_train['question1'].tolist() + df_train['question2'].tolist()).astype(str)\n",
    "qs_test = pd.Series(df_test['question1'].tolist() + df_test['question2'].tolist()).astype(str)\n",
    "\n",
    "print(type(qs_train))\n",
    "qs_train.head()"
   ]
  },
  {
   "cell_type": "markdown",
   "metadata": {
    "deletable": true,
    "editable": true
   },
   "source": [
    "## Feature Analysis"
   ]
  },
  {
   "cell_type": "code",
   "execution_count": 3,
   "metadata": {
    "collapsed": false,
    "deletable": true,
    "editable": true
   },
   "outputs": [],
   "source": [
    "from nltk.corpus import wordnet\n",
    "from nltk import word_tokenize, pos_tag\n",
    "from nltk.stem import WordNetLemmatizer\n",
    "from nltk.stem.porter import PorterStemmer\n",
    "from nltk.corpus import stopwords\n",
    "\n",
    "#nltk.download(\"stopwords\")\n",
    "#nltk.download(\"averaged_perceptron_tagger\")\n",
    "#nltk.download(\"punkt\")\n",
    "#nltk.download(\"maxent_treebank_pos_tagger\")\n",
    "#nltk.download(\"porter_test\")\n",
    "\n",
    "from collections import Counter"
   ]
  },
  {
   "cell_type": "code",
   "execution_count": 20,
   "metadata": {
    "collapsed": true,
    "deletable": true,
    "editable": true
   },
   "outputs": [],
   "source": []
  },
  {
   "cell_type": "markdown",
   "metadata": {
    "deletable": true,
    "editable": true
   },
   "source": [
    "### Word Match"
   ]
  },
  {
   "cell_type": "code",
   "execution_count": 32,
   "metadata": {
    "collapsed": false,
    "deletable": true,
    "editable": true
   },
   "outputs": [],
   "source": [
    "# Lemmatization\n",
    "def get_wordnet_pos(treebank_tag):\n",
    "    if treebank_tag.startswith('J'):\n",
    "        return wordnet.ADJ\n",
    "    elif treebank_tag.startswith('V'):\n",
    "        return wordnet.VERB\n",
    "    elif treebank_tag.startswith('N'):\n",
    "        return wordnet.NOUN\n",
    "    elif treebank_tag.startswith('R'):\n",
    "        return wordnet.ADV\n",
    "    else:\n",
    "        return None\n",
    "\n",
    "def lemmatize_sentence(sentence):\n",
    "    res = []\n",
    "    lemmatizer = WordNetLemmatizer()\n",
    "    for word, pos in pos_tag(word_tokenize(sentence)):\n",
    "        wordnet_pos = get_wordnet_pos(pos) or wordnet.NOUN\n",
    "        res.append(lemmatizer.lemmatize(word, pos=wordnet_pos))\n",
    "    return res\n",
    "\n",
    "\n",
    "# Stem words\n",
    "def stem_words(sentence):\n",
    "    porter_stemmer = PorterStemmer()\n",
    "    \n",
    "    # If sentence is a string, transfer to array\n",
    "    if type(sentence) == str:\n",
    "        sentence = sentence.split()\n",
    "    \n",
    "    st_lst = []\n",
    "    for w in sentence:\n",
    "        w = porter_stemmer.stem(w)\n",
    "        st_lst.append(w)\n",
    "    \n",
    "    return st_lst\n",
    "    \n",
    "\n",
    "\n",
    "# Remove stopwords\n",
    "stops = set(stopwords.words('english'))\n",
    "\n",
    "def remove_stopwords(sentence):\n",
    "    # Input a str or list type sentence, remove the stopwords\n",
    "    # Return a word list\n",
    "    \n",
    "    # If sentence is a string, transfer to array\n",
    "    if type(sentence) == str:\n",
    "        sentence = sentence.split()\n",
    "    \n",
    "    # return type is list\n",
    "#     ns_lst = []\n",
    "#     for w in sentence:\n",
    "#         if w not in stops:\n",
    "#             ns_lst.append(w)\n",
    "\n",
    "    # return type is dict\n",
    "    ns_words = {}\n",
    "    for word in sentence:\n",
    "        if word not in stops:\n",
    "            ns_words[word] = 1\n",
    "\n",
    "    return ns_words\n",
    "            \n",
    "\n",
    "# Word matching\n",
    "def word_match_share(row):\n",
    "    # Input a row of question pairs \n",
    "    # Return (comm_word_cnt_q1 + comm_word_cnt_q2)/(word_cnt_q1 + word_cnt_q2)\n",
    "    \n",
    "    q1 = str(row['question1']).lower()\n",
    "    q2 = str(row['question2']).lower()\n",
    "    \n",
    "    # Lemmatize\n",
    "    #q1 = lemmatize_sentence(q1)\n",
    "    #q2 = lemmatize_sentence(q2)\n",
    "    \n",
    "    # Remove stopwords\n",
    "    q1_words = remove_stopwords(q1)\n",
    "    q2_words = remove_stopwords(q2)\n",
    "    \n",
    "    # Stemming\n",
    "    #q1_words = stem_words(q1_words)\n",
    "    #q2_words = stem_words(q2_words)\n",
    "    \n",
    "    if len(q1_words) == 0 or len(q2_words) == 0:\n",
    "        # The computer-generated chaff includes a few questions that are nothing but stopwords\n",
    "        return 0\n",
    "    \n",
    "    shared_words_in_q1 = [w for w in q1_words if w in q2_words]\n",
    "    shared_words_in_q2 = [w for w in q2_words if w in q1_words]\n",
    "    R = (len(shared_words_in_q1) + len(shared_words_in_q2))/(len(q1_words) + len(q2_words))\n",
    "    return R\n",
    "\n",
    "# Uni test\n",
    "#uni_train = df_train[0:5]\n",
    "#word_match_train = uni_train.apply(word_match_share, axis=1, raw=True)\n",
    "#word_match_train\n",
    "\n",
    "word_match_train = df_train.apply(word_match_share, axis=1, raw=True)\n",
    "        "
   ]
  },
  {
   "cell_type": "markdown",
   "metadata": {
    "deletable": true,
    "editable": true
   },
   "source": [
    "### TF-INF"
   ]
  },
  {
   "cell_type": "code",
   "execution_count": 38,
   "metadata": {
    "collapsed": false,
    "deletable": true,
    "editable": true
   },
   "outputs": [],
   "source": [
    "def get_weight(count, eps=10000, min_count=2):\n",
    "    if count < min_count:\n",
    "        return 0\n",
    "    else:\n",
    "        return 1 / (count + eps)\n",
    "\n",
    "eps = 5000 \n",
    "words = (\" \".join(qs_train)).lower().split()\n",
    "# counts is the dict format and count for the word in all questions\n",
    "counts = Counter(words)\n",
    "# weights is 1/(count+5000)\n",
    "weights = {word: get_weight(count) for word, count in counts.items()}\n"
   ]
  },
  {
   "cell_type": "code",
   "execution_count": 39,
   "metadata": {
    "collapsed": false,
    "deletable": true,
    "editable": true
   },
   "outputs": [
    {
     "name": "stderr",
     "output_type": "stream",
     "text": [
      "/Users/jon/anaconda/envs/ML3/lib/python3.6/site-packages/ipykernel/__main__.py:17: RuntimeWarning: invalid value encountered in double_scalars\n"
     ]
    }
   ],
   "source": [
    "def tfidf_word_match_share(row):\n",
    "    q1words = {}\n",
    "    q2words = {}\n",
    "    for word in str(row['question1']).lower().split():\n",
    "        if word not in stops:\n",
    "            q1words[word] = 1\n",
    "    for word in str(row['question2']).lower().split():\n",
    "        if word not in stops:\n",
    "            q2words[word] = 1\n",
    "    if len(q1words) == 0 or len(q2words) == 0:\n",
    "        # The computer-generated chaff includes a few questions that are nothing but stopwords\n",
    "        return 0\n",
    "    \n",
    "    # shared_weights: q1 shared words' weight + q2 shared words' weight\n",
    "    # total_weights: q1 all words' weight + q2 all words' weight\n",
    "    shared_weights = [weights.get(w, 0) for w in q1words.keys() if w in q2words] \n",
    "                        + [weights.get(w, 0) for w in q2words.keys() if w in q1words]\n",
    "    total_weights = [weights.get(w, 0) for w in q1words] + [weights.get(w, 0) for w in q2words]\n",
    "    \n",
    "    R = np.sum(shared_weights) / np.sum(total_weights)\n",
    "    return R\n",
    "\n",
    "\n",
    "tfidf_word_match_train = df_train.apply(tfidf_word_match_share, axis=1, raw=True)\n",
    "\n"
   ]
  },
  {
   "cell_type": "markdown",
   "metadata": {
    "deletable": true,
    "editable": true
   },
   "source": [
    "### Fuzzy Wuzzy"
   ]
  },
  {
   "cell_type": "code",
   "execution_count": 120,
   "metadata": {
    "collapsed": false,
    "deletable": true,
    "editable": true
   },
   "outputs": [],
   "source": [
    "from fuzzywuzzy import fuzz"
   ]
  },
  {
   "cell_type": "code",
   "execution_count": 122,
   "metadata": {
    "collapsed": false,
    "deletable": true,
    "editable": true
   },
   "outputs": [
    {
     "name": "stdout",
     "output_type": "stream",
     "text": [
      "Start to calculate fuzzy features.\n",
      "1/7 QRatio finished.\n",
      "2/7 WRatio finished.\n",
      "3/7 Partial Ratio finished.\n",
      "4/7 Partial Token Set Ratio finished.\n",
      "5/7 Partial Token Sort Ratio finished.\n",
      "6/7 Token Set Ratio finished.\n",
      "7/7 Token Sort Ratio finished.\n"
     ]
    }
   ],
   "source": [
    "print(\"Start to calculate fuzzy features.\")\n",
    "\n",
    "fuzz_qratio = df_train.apply(lambda x: fuzz.QRatio(str(x['question1']), str(x['question2'])), axis=1)\n",
    "print(\"1/7 QRatio finished.\")\n",
    "\n",
    "fuzz_wratio = df_train.apply(lambda x: fuzz.WRatio(str(x['question1']), str(x['question2'])), axis=1)\n",
    "print(\"2/7 WRatio finished.\")\n",
    "\n",
    "fuzz_partial_ratio = df_train.apply(lambda x: fuzz.partial_ratio(str(x['question1']), str(x['question2'])), axis=1)\n",
    "print(\"3/7 Partial Ratio finished.\")\n",
    "\n",
    "fuzz_partial_token_set_ratio = df_train.apply(lambda x: fuzz.partial_token_set_ratio(str(x['question1']), str(x['question2'])), axis=1)\n",
    "print(\"4/7 Partial Token Set Ratio finished.\")\n",
    "\n",
    "fuzz_partial_token_sort_ratio = df_train.apply(lambda x: fuzz.partial_token_sort_ratio(str(x['question1']), str(x['question2'])), axis=1)\n",
    "print(\"5/7 Partial Token Sort Ratio finished.\")\n",
    "\n",
    "fuzz_token_set_ratio = df_train.apply(lambda x: fuzz.token_set_ratio(str(x['question1']), str(x['question2'])), axis=1)\n",
    "print(\"6/7 Token Set Ratio finished.\")\n",
    "\n",
    "fuzz_token_sort_ratio = df_train.apply(lambda x: fuzz.token_sort_ratio(str(x['question1']), str(x['question2'])), axis=1)\n",
    "print(\"7/7 Token Sort Ratio finished.\")"
   ]
  },
  {
   "cell_type": "markdown",
   "metadata": {
    "deletable": true,
    "editable": true
   },
   "source": [
    "### Word2Vec (GoogleNews-vectors-negative300.bin.gz)"
   ]
  },
  {
   "cell_type": "code",
   "execution_count": 4,
   "metadata": {
    "collapsed": false,
    "deletable": true,
    "editable": true
   },
   "outputs": [],
   "source": [
    "import gensim\n",
    "from tqdm import tqdm\n",
    "#import pyemd\n",
    "from scipy.stats import skew, kurtosis\n",
    "from scipy.spatial.distance import cosine, cityblock, jaccard, canberra, euclidean, minkowski, braycurtis"
   ]
  },
  {
   "cell_type": "code",
   "execution_count": 8,
   "metadata": {
    "collapsed": true,
    "deletable": true,
    "editable": true
   },
   "outputs": [],
   "source": [
    "def wmd(s1, s2):\n",
    "    s1 = str(s1).lower().split()\n",
    "    s2 = str(s2).lower().split()\n",
    "    stop_words = stopwords.words('english')\n",
    "    s1 = [w for w in s1 if w not in stop_words]\n",
    "    s2 = [w for w in s2 if w not in stop_words]\n",
    "    return model.wmdistance(s1, s2)\n",
    "\n",
    "def norm_wmd(s1, s2):\n",
    "    s1 = str(s1).lower().split()\n",
    "    s2 = str(s2).lower().split()\n",
    "    stop_words = stopwords.words('english')\n",
    "    s1 = [w for w in s1 if w not in stop_words]\n",
    "    s2 = [w for w in s2 if w not in stop_words]\n",
    "    return norm_model.wmdistance(s1, s2)"
   ]
  },
  {
   "cell_type": "code",
   "execution_count": 6,
   "metadata": {
    "collapsed": false,
    "deletable": true,
    "editable": true
   },
   "outputs": [
    {
     "name": "stdout",
     "output_type": "stream",
     "text": [
      "Model built.\n",
      "Word Mover Distince finished.\n",
      "Normalize model built.\n",
      "Normalize Word Mover Distince finished.\n"
     ]
    }
   ],
   "source": [
    "model = gensim.models.KeyedVectors.load_word2vec_format('input/GoogleNews-vectors-negative300.bin.gz', binary=True)\n",
    "print(\"Model built.\")\n",
    "wmd_train = df_train.apply(lambda x: wmd(x['question1'], x['question2']), axis=1)\n",
    "print(\"Word Mover Distince finished.\")\n",
    "\n",
    "\n",
    "norm_model = gensim.models.KeyedVectors.load_word2vec_format('input/GoogleNews-vectors-negative300.bin.gz', binary=True)\n",
    "norm_model.init_sims(replace=True)\n",
    "print(\"Normalize model built.\")\n",
    "norm_wmd_train = df_train.apply(lambda x: norm_wmd(x['question1'], x['question2']), axis=1)\n",
    "print(\"Normalize Word Mover Distince finished.\")"
   ]
  },
  {
   "cell_type": "code",
   "execution_count": 8,
   "metadata": {
    "collapsed": false,
    "deletable": true,
    "editable": true
   },
   "outputs": [],
   "source": [
    "def sent2vec(s):\n",
    "    #words = str(s).lower().decode('utf-8')\n",
    "    words = str(s).lower()\n",
    "    words = word_tokenize(words)\n",
    "    words = [w for w in words if not w in stop_words]\n",
    "    words = [w for w in words if w.isalpha()]\n",
    "    M = []\n",
    "    for w in words:\n",
    "        try:\n",
    "            M.append(model[w])\n",
    "        except:\n",
    "            continue\n",
    "    M = np.array(M)\n",
    "    v = M.sum(axis=0)\n",
    "    return v / np.sqrt((v ** 2).sum())\n",
    "\n",
    "stop_words = stopwords.words('english')"
   ]
  },
  {
   "cell_type": "code",
   "execution_count": 9,
   "metadata": {
    "collapsed": false,
    "deletable": true,
    "editable": true
   },
   "outputs": [
    {
     "ename": "NameError",
     "evalue": "name 'df_train' is not defined",
     "output_type": "error",
     "traceback": [
      "\u001b[0;31m---------------------------------------------------------------------------\u001b[0m",
      "\u001b[0;31mNameError\u001b[0m                                 Traceback (most recent call last)",
      "\u001b[0;32m<ipython-input-9-2bc7b2fb172c>\u001b[0m in \u001b[0;36m<module>\u001b[0;34m()\u001b[0m\n\u001b[0;32m----> 1\u001b[0;31m \u001b[0mquestion1_vectors\u001b[0m \u001b[0;34m=\u001b[0m \u001b[0mnp\u001b[0m\u001b[0;34m.\u001b[0m\u001b[0mzeros\u001b[0m\u001b[0;34m(\u001b[0m\u001b[0;34m(\u001b[0m\u001b[0mdf_train\u001b[0m\u001b[0;34m.\u001b[0m\u001b[0mshape\u001b[0m\u001b[0;34m[\u001b[0m\u001b[0;36m0\u001b[0m\u001b[0;34m]\u001b[0m\u001b[0;34m,\u001b[0m \u001b[0;36m300\u001b[0m\u001b[0;34m)\u001b[0m\u001b[0;34m)\u001b[0m\u001b[0;34m\u001b[0m\u001b[0m\n\u001b[0m\u001b[1;32m      2\u001b[0m \u001b[0merror_count\u001b[0m \u001b[0;34m=\u001b[0m \u001b[0;36m0\u001b[0m\u001b[0;34m\u001b[0m\u001b[0m\n\u001b[1;32m      3\u001b[0m \u001b[0;34m\u001b[0m\u001b[0m\n\u001b[1;32m      4\u001b[0m \u001b[0;32mfor\u001b[0m \u001b[0mi\u001b[0m\u001b[0;34m,\u001b[0m \u001b[0mq\u001b[0m \u001b[0;32min\u001b[0m \u001b[0mtqdm\u001b[0m\u001b[0;34m(\u001b[0m\u001b[0menumerate\u001b[0m\u001b[0;34m(\u001b[0m\u001b[0mdf_train\u001b[0m\u001b[0;34m.\u001b[0m\u001b[0mquestion1\u001b[0m\u001b[0;34m.\u001b[0m\u001b[0mvalues\u001b[0m\u001b[0;34m)\u001b[0m\u001b[0;34m)\u001b[0m\u001b[0;34m:\u001b[0m\u001b[0;34m\u001b[0m\u001b[0m\n\u001b[1;32m      5\u001b[0m     \u001b[0mquestion1_vectors\u001b[0m\u001b[0;34m[\u001b[0m\u001b[0mi\u001b[0m\u001b[0;34m,\u001b[0m \u001b[0;34m:\u001b[0m\u001b[0;34m]\u001b[0m \u001b[0;34m=\u001b[0m \u001b[0msent2vec\u001b[0m\u001b[0;34m(\u001b[0m\u001b[0mq\u001b[0m\u001b[0;34m)\u001b[0m\u001b[0;34m\u001b[0m\u001b[0m\n",
      "\u001b[0;31mNameError\u001b[0m: name 'df_train' is not defined"
     ]
    }
   ],
   "source": [
    "question1_vectors = np.zeros((df_train.shape[0], 300))\n",
    "error_count = 0\n",
    "\n",
    "for i, q in tqdm(enumerate(df_train.question1.values)):\n",
    "    question1_vectors[i, :] = sent2vec(q)\n",
    "\n",
    "question2_vectors  = np.zeros((df_train.shape[0], 300))\n",
    "for i, q in tqdm(enumerate(df_train.question2.values)):\n",
    "    question2_vectors[i, :] = sent2vec(q)\n"
   ]
  },
  {
   "cell_type": "code",
   "execution_count": 49,
   "metadata": {
    "collapsed": false,
    "deletable": true,
    "editable": true
   },
   "outputs": [
    {
     "name": "stderr",
     "output_type": "stream",
     "text": [
      "/Users/jon/anaconda/envs/ML3/lib/python3.6/site-packages/scipy/spatial/distance.py:505: RuntimeWarning: invalid value encountered in double_scalars\n",
      "  dist = 1.0 - np.dot(u, v) / (norm(u) * norm(v))\n"
     ]
    },
    {
     "name": "stdout",
     "output_type": "stream",
     "text": [
      "1/11 Cosine Distance finished.\n",
      "2/11 Cityblock Distance finished.\n"
     ]
    },
    {
     "name": "stderr",
     "output_type": "stream",
     "text": [
      "/Users/jon/anaconda/envs/ML3/lib/python3.6/site-packages/scipy/spatial/distance.py:616: RuntimeWarning: invalid value encountered in double_scalars\n",
      "  np.double(np.bitwise_or(u != 0, v != 0).sum()))\n"
     ]
    },
    {
     "name": "stdout",
     "output_type": "stream",
     "text": [
      "3/11 Jaccard Distance finished.\n",
      "4/11 Canberra Distance finished.\n",
      "5/11 Euclidean Distance finished.\n",
      "6/11 Minkowski Distance finished.\n"
     ]
    },
    {
     "name": "stderr",
     "output_type": "stream",
     "text": [
      "/Users/jon/anaconda/envs/ML3/lib/python3.6/site-packages/scipy/spatial/distance.py:810: RuntimeWarning: invalid value encountered in double_scalars\n",
      "  return abs(u - v).sum() / abs(u + v).sum()\n"
     ]
    },
    {
     "name": "stdout",
     "output_type": "stream",
     "text": [
      "7/11 Braycurtis Distance finished.\n",
      "8/11 Skew Q1 Vec finished.\n",
      "9/11 Skew Q2 Vec finished.\n",
      "10/11 Kurtosis Q1 Vec finished.\n",
      "11/11 Kurtosis Q2 Vec finished.\n"
     ]
    }
   ],
   "source": [
    "cosine_distance = [cosine(x, y) for (x, y) in zip(np.nan_to_num(question1_vectors), np.nan_to_num(question2_vectors))]\n",
    "print(\"1/11 Cosine Distance finished.\")\n",
    "cityblock_distance = [cityblock(x, y) for (x, y) in zip(np.nan_to_num(question1_vectors), np.nan_to_num(question2_vectors))]\n",
    "print(\"2/11 Cityblock Distance finished.\")\n",
    "jaccard_distance = [jaccard(x, y) for (x, y) in zip(np.nan_to_num(question1_vectors), np.nan_to_num(question2_vectors))]\n",
    "print(\"3/11 Jaccard Distance finished.\")\n",
    "canberra_distance = [canberra(x, y) for (x, y) in zip(np.nan_to_num(question1_vectors), np.nan_to_num(question2_vectors))]\n",
    "print(\"4/11 Canberra Distance finished.\")\n",
    "euclidean_distance = [euclidean(x, y) for (x, y) in zip(np.nan_to_num(question1_vectors), np.nan_to_num(question2_vectors))]\n",
    "print(\"5/11 Euclidean Distance finished.\")\n",
    "minkowski_distance = [minkowski(x, y, 3) for (x, y) in zip(np.nan_to_num(question1_vectors), np.nan_to_num(question2_vectors))]\n",
    "print(\"6/11 Minkowski Distance finished.\")\n",
    "braycurtis_distance = [braycurtis(x, y) for (x, y) in zip(np.nan_to_num(question1_vectors), np.nan_to_num(question2_vectors))]\n",
    "print(\"7/11 Braycurtis Distance finished.\")\n",
    "skew_q1vec = [skew(x) for x in np.nan_to_num(question1_vectors)]\n",
    "print(\"8/11 Skew Q1 Vec finished.\")\n",
    "skew_q2vec = [skew(x) for x in np.nan_to_num(question2_vectors)]\n",
    "print(\"9/11 Skew Q2 Vec finished.\")\n",
    "kur_q1vec = [kurtosis(x) for x in np.nan_to_num(question1_vectors)]\n",
    "print(\"10/11 Kurtosis Q1 Vec finished.\")\n",
    "kur_q2vec = [kurtosis(x) for x in np.nan_to_num(question2_vectors)]\n",
    "print(\"11/11 Kurtosis Q2 Vec finished.\")"
   ]
  },
  {
   "cell_type": "markdown",
   "metadata": {
    "deletable": true,
    "editable": true
   },
   "source": [
    "### Generate Features"
   ]
  },
  {
   "cell_type": "code",
   "execution_count": 187,
   "metadata": {
    "collapsed": false,
    "deletable": true,
    "editable": true
   },
   "outputs": [],
   "source": [
    "# First we create our training and testing data\n",
    "# To distinct with the rebalance x_train, use another name. \n",
    "# All train data without rebalance data and split validation set.\n",
    "x_all_train = pd.DataFrame()\n",
    "x_all_train['word_match'] = word_match_train\n",
    "x_all_train['tfidf_word_match'] = tfidf_word_match_train\n",
    "\n",
    "x_all_train['fuzz_qratio'] = fuzz_qratio\n",
    "x_all_train['fuzz_wratio'] = fuzz_wratio\n",
    "x_all_train['fuzz_partial_ratio'] = fuzz_partial_ratio\n",
    "x_all_train['fuzz_partial_token_set_ratio'] = fuzz_partial_token_set_ratio \n",
    "x_all_train['fuzz_partial_token_sort_ratio'] = fuzz_partial_token_sort_ratio\n",
    "x_all_train['fuzz_token_set_ratio'] = fuzz_token_set_ratio\n",
    "x_all_train['fuzz_token_sort_ratio'] = fuzz_token_sort_ratio\n",
    "\n",
    "x_all_train['wmd'] = wmd_train\n",
    "x_all_train['norm_wmd'] = norm_wmd_train\n",
    "\n",
    "x_all_train['cosine_distance'] = cosine_distance                   \n",
    "x_all_train['cityblock_distance'] = cityblock_distance                         \n",
    "x_all_train['jaccard_distance'] = jaccard_distance                           \n",
    "x_all_train['canberra_distance'] = canberra_distance                          \n",
    "x_all_train['euclidean_distance'] = euclidean_distance                          \n",
    "x_all_train['minkowski_distance'] = minkowski_distance                        \n",
    "x_all_train['braycurtis_distance'] = braycurtis_distance\n",
    "x_all_train['skew_q1vec'] = skew_q1vec\n",
    "x_all_train['skew_q2vec'] = skew_q2vec\n",
    "x_all_train['kur_q1vec'] = kur_q1vec\n",
    "x_all_train['kur_q2vec'] = kur_q2vec"
   ]
  },
  {
   "cell_type": "code",
   "execution_count": 50,
   "metadata": {
    "collapsed": true,
    "deletable": true,
    "editable": true
   },
   "outputs": [],
   "source": [
    "                    "
   ]
  },
  {
   "cell_type": "code",
   "execution_count": 24,
   "metadata": {
    "collapsed": false,
    "deletable": true,
    "editable": true
   },
   "outputs": [],
   "source": [
    "y_all_train = df_train[\"is_duplicate\"]"
   ]
  },
  {
   "cell_type": "markdown",
   "metadata": {
    "deletable": true,
    "editable": true
   },
   "source": [
    "### Basic Ones"
   ]
  },
  {
   "cell_type": "code",
   "execution_count": 189,
   "metadata": {
    "collapsed": false,
    "deletable": true,
    "editable": true
   },
   "outputs": [
    {
     "name": "stdout",
     "output_type": "stream",
     "text": [
      "Basic features generation finished.\n"
     ]
    }
   ],
   "source": [
    "x_all_train['len_q1'] = df_train.question1.apply(lambda x: len(str(x)))\n",
    "x_all_train['len_q2'] = df_train.question2.apply(lambda x: len(str(x)))\n",
    "x_all_train['diff_len'] = x_all_train.len_q1 - x_all_train.len_q2\n",
    "x_all_train['len_char_q1'] = df_train.question1.apply(lambda x: len(''.join(set(str(x).replace(' ', '')))))\n",
    "x_all_train['len_char_q2'] = df_train.question2.apply(lambda x: len(''.join(set(str(x).replace(' ', '')))))\n",
    "x_all_train['len_word_q1'] = df_train.question1.apply(lambda x: len(str(x).split()))\n",
    "x_all_train['len_word_q2'] = df_train.question2.apply(lambda x: len(str(x).split()))\n",
    "\n",
    "print(\"Basic features generation finished.\")"
   ]
  },
  {
   "cell_type": "markdown",
   "metadata": {
    "deletable": true,
    "editable": true
   },
   "source": [
    "### Save and Load"
   ]
  },
  {
   "cell_type": "code",
   "execution_count": 26,
   "metadata": {
    "collapsed": false,
    "deletable": true,
    "editable": true
   },
   "outputs": [],
   "source": [
    "#x_all_train.to_pickle(\"pickle/x_all_train_wm_twm_fz_wmd_nwmd_w2v_bs.pkl\")\n",
    "#y_all_train.to_pickle(\"pickle/y_all_train.pkl\")\n",
    "\n",
    "#x_all_train = pd.read_pickle(\"pickle/x_all_train_wm_twm_fz_wmd_nwmd_w2v_bs.pkl\")\n",
    "y_all_train = pd.read_pickle(\"pickle/y_all_train.pkl\")\n"
   ]
  },
  {
   "cell_type": "code",
   "execution_count": 28,
   "metadata": {
    "collapsed": false,
    "deletable": true,
    "editable": true
   },
   "outputs": [
    {
     "data": {
      "text/html": [
       "<div>\n",
       "<table border=\"1\" class=\"dataframe\">\n",
       "  <thead>\n",
       "    <tr style=\"text-align: right;\">\n",
       "      <th></th>\n",
       "      <th>word_match</th>\n",
       "      <th>tfidf_word_match</th>\n",
       "      <th>fuzz_qratio</th>\n",
       "      <th>fuzz_wratio</th>\n",
       "      <th>fuzz_partial_ratio</th>\n",
       "      <th>fuzz_partial_token_set_ratio</th>\n",
       "      <th>fuzz_partial_token_sort_ratio</th>\n",
       "      <th>fuzz_token_set_ratio</th>\n",
       "      <th>fuzz_token_sort_ratio</th>\n",
       "      <th>len_q1</th>\n",
       "      <th>...</th>\n",
       "      <th>cityblock_distance</th>\n",
       "      <th>jaccard_distance</th>\n",
       "      <th>canberra_distance</th>\n",
       "      <th>euclidean_distance</th>\n",
       "      <th>minkowski_distance</th>\n",
       "      <th>braycurtis_distance</th>\n",
       "      <th>skew_q1vec</th>\n",
       "      <th>skew_q2vec</th>\n",
       "      <th>kur_q1vec</th>\n",
       "      <th>kur_q2vec</th>\n",
       "    </tr>\n",
       "  </thead>\n",
       "  <tbody>\n",
       "    <tr>\n",
       "      <th>0</th>\n",
       "      <td>0.727273</td>\n",
       "      <td>0.772164</td>\n",
       "      <td>93</td>\n",
       "      <td>95</td>\n",
       "      <td>98</td>\n",
       "      <td>100</td>\n",
       "      <td>88</td>\n",
       "      <td>100</td>\n",
       "      <td>93</td>\n",
       "      <td>66</td>\n",
       "      <td>...</td>\n",
       "      <td>5.081614</td>\n",
       "      <td>1.0</td>\n",
       "      <td>94.023324</td>\n",
       "      <td>0.371408</td>\n",
       "      <td>0.168999</td>\n",
       "      <td>0.186557</td>\n",
       "      <td>0.031817</td>\n",
       "      <td>-0.091902</td>\n",
       "      <td>0.050416</td>\n",
       "      <td>0.337301</td>\n",
       "    </tr>\n",
       "    <tr>\n",
       "      <th>1</th>\n",
       "      <td>0.307692</td>\n",
       "      <td>0.361758</td>\n",
       "      <td>66</td>\n",
       "      <td>86</td>\n",
       "      <td>73</td>\n",
       "      <td>100</td>\n",
       "      <td>73</td>\n",
       "      <td>86</td>\n",
       "      <td>63</td>\n",
       "      <td>51</td>\n",
       "      <td>...</td>\n",
       "      <td>14.195119</td>\n",
       "      <td>1.0</td>\n",
       "      <td>177.588090</td>\n",
       "      <td>1.012091</td>\n",
       "      <td>0.455910</td>\n",
       "      <td>0.592655</td>\n",
       "      <td>0.008735</td>\n",
       "      <td>0.094704</td>\n",
       "      <td>0.284010</td>\n",
       "      <td>-0.034444</td>\n",
       "    </tr>\n",
       "    <tr>\n",
       "      <th>2</th>\n",
       "      <td>0.363636</td>\n",
       "      <td>0.355191</td>\n",
       "      <td>43</td>\n",
       "      <td>60</td>\n",
       "      <td>41</td>\n",
       "      <td>100</td>\n",
       "      <td>71</td>\n",
       "      <td>63</td>\n",
       "      <td>63</td>\n",
       "      <td>73</td>\n",
       "      <td>...</td>\n",
       "      <td>9.055989</td>\n",
       "      <td>1.0</td>\n",
       "      <td>135.988707</td>\n",
       "      <td>0.666346</td>\n",
       "      <td>0.307828</td>\n",
       "      <td>0.342306</td>\n",
       "      <td>0.239752</td>\n",
       "      <td>0.144554</td>\n",
       "      <td>0.026759</td>\n",
       "      <td>-0.474131</td>\n",
       "    </tr>\n",
       "    <tr>\n",
       "      <th>3</th>\n",
       "      <td>0.000000</td>\n",
       "      <td>0.000000</td>\n",
       "      <td>9</td>\n",
       "      <td>27</td>\n",
       "      <td>20</td>\n",
       "      <td>32</td>\n",
       "      <td>30</td>\n",
       "      <td>28</td>\n",
       "      <td>24</td>\n",
       "      <td>50</td>\n",
       "      <td>...</td>\n",
       "      <td>15.987437</td>\n",
       "      <td>1.0</td>\n",
       "      <td>192.237828</td>\n",
       "      <td>1.140536</td>\n",
       "      <td>0.506028</td>\n",
       "      <td>0.692421</td>\n",
       "      <td>-0.002527</td>\n",
       "      <td>0.069649</td>\n",
       "      <td>-0.244560</td>\n",
       "      <td>-0.265568</td>\n",
       "    </tr>\n",
       "    <tr>\n",
       "      <th>4</th>\n",
       "      <td>0.000000</td>\n",
       "      <td>0.000000</td>\n",
       "      <td>35</td>\n",
       "      <td>86</td>\n",
       "      <td>54</td>\n",
       "      <td>100</td>\n",
       "      <td>67</td>\n",
       "      <td>67</td>\n",
       "      <td>47</td>\n",
       "      <td>76</td>\n",
       "      <td>...</td>\n",
       "      <td>12.103178</td>\n",
       "      <td>1.0</td>\n",
       "      <td>161.408435</td>\n",
       "      <td>0.860225</td>\n",
       "      <td>0.382770</td>\n",
       "      <td>0.480633</td>\n",
       "      <td>-0.133849</td>\n",
       "      <td>0.114777</td>\n",
       "      <td>0.217900</td>\n",
       "      <td>-0.338876</td>\n",
       "    </tr>\n",
       "  </tbody>\n",
       "</table>\n",
       "<p>5 rows × 29 columns</p>\n",
       "</div>"
      ],
      "text/plain": [
       "   word_match  tfidf_word_match  fuzz_qratio  fuzz_wratio  fuzz_partial_ratio  \\\n",
       "0    0.727273          0.772164           93           95                  98   \n",
       "1    0.307692          0.361758           66           86                  73   \n",
       "2    0.363636          0.355191           43           60                  41   \n",
       "3    0.000000          0.000000            9           27                  20   \n",
       "4    0.000000          0.000000           35           86                  54   \n",
       "\n",
       "   fuzz_partial_token_set_ratio  fuzz_partial_token_sort_ratio  \\\n",
       "0                           100                             88   \n",
       "1                           100                             73   \n",
       "2                           100                             71   \n",
       "3                            32                             30   \n",
       "4                           100                             67   \n",
       "\n",
       "   fuzz_token_set_ratio  fuzz_token_sort_ratio  len_q1    ...      \\\n",
       "0                   100                     93      66    ...       \n",
       "1                    86                     63      51    ...       \n",
       "2                    63                     63      73    ...       \n",
       "3                    28                     24      50    ...       \n",
       "4                    67                     47      76    ...       \n",
       "\n",
       "   cityblock_distance  jaccard_distance  canberra_distance  \\\n",
       "0            5.081614               1.0          94.023324   \n",
       "1           14.195119               1.0         177.588090   \n",
       "2            9.055989               1.0         135.988707   \n",
       "3           15.987437               1.0         192.237828   \n",
       "4           12.103178               1.0         161.408435   \n",
       "\n",
       "   euclidean_distance  minkowski_distance  braycurtis_distance  skew_q1vec  \\\n",
       "0            0.371408            0.168999             0.186557    0.031817   \n",
       "1            1.012091            0.455910             0.592655    0.008735   \n",
       "2            0.666346            0.307828             0.342306    0.239752   \n",
       "3            1.140536            0.506028             0.692421   -0.002527   \n",
       "4            0.860225            0.382770             0.480633   -0.133849   \n",
       "\n",
       "   skew_q2vec  kur_q1vec  kur_q2vec  \n",
       "0   -0.091902   0.050416   0.337301  \n",
       "1    0.094704   0.284010  -0.034444  \n",
       "2    0.144554   0.026759  -0.474131  \n",
       "3    0.069649  -0.244560  -0.265568  \n",
       "4    0.114777   0.217900  -0.338876  \n",
       "\n",
       "[5 rows x 29 columns]"
      ]
     },
     "execution_count": 28,
     "metadata": {},
     "output_type": "execute_result"
    }
   ],
   "source": [
    "x_all_train.head()"
   ]
  },
  {
   "cell_type": "code",
   "execution_count": 27,
   "metadata": {
    "collapsed": false
   },
   "outputs": [
    {
     "data": {
      "text/plain": [
       "404290"
      ]
     },
     "execution_count": 27,
     "metadata": {},
     "output_type": "execute_result"
    }
   ],
   "source": [
    "len(y_all_train)"
   ]
  },
  {
   "cell_type": "markdown",
   "metadata": {
    "deletable": true,
    "editable": true
   },
   "source": [
    "### Rebalance data"
   ]
  },
  {
   "cell_type": "code",
   "execution_count": 29,
   "metadata": {
    "collapsed": false,
    "deletable": true,
    "editable": true
   },
   "outputs": [
    {
     "name": "stdout",
     "output_type": "stream",
     "text": [
      "0.19124366100096607\n"
     ]
    }
   ],
   "source": [
    "pos_train = x_all_train[y_all_train == 1]\n",
    "neg_train = x_all_train[y_all_train == 0]\n",
    "\n",
    "# Now we oversample the negative class\n",
    "# There is likely a much more elegant way to do this...\n",
    "p = 0.165\n",
    "scale = ((len(pos_train) / (len(pos_train) + len(neg_train))) / p) - 1\n",
    "while scale > 1:\n",
    "    neg_train = pd.concat([neg_train, neg_train])\n",
    "    scale -=1\n",
    "neg_train = pd.concat([neg_train, neg_train[:int(scale * len(neg_train))]])\n",
    "print(len(pos_train) / (len(pos_train) + len(neg_train)))\n",
    "\n",
    "x_rb_train = pd.concat([pos_train, neg_train])\n",
    "y_rb_train = (np.zeros(len(pos_train)) + 1).tolist() + np.zeros(len(neg_train)).tolist()\n",
    "del pos_train, neg_train"
   ]
  },
  {
   "cell_type": "markdown",
   "metadata": {
    "deletable": true,
    "editable": true
   },
   "source": [
    "## Train by XGBoost"
   ]
  },
  {
   "cell_type": "code",
   "execution_count": 30,
   "metadata": {
    "collapsed": true,
    "deletable": true,
    "editable": true
   },
   "outputs": [],
   "source": [
    "from sklearn.model_selection import train_test_split\n",
    "import xgboost as xgb"
   ]
  },
  {
   "cell_type": "code",
   "execution_count": 31,
   "metadata": {
    "collapsed": false,
    "deletable": true,
    "editable": true
   },
   "outputs": [],
   "source": [
    "# Split training set and validation set\n",
    "x_train, x_valid, y_train, y_valid = train_test_split(x_rb_train, y_rb_train, test_size=0.2, random_state=1234)"
   ]
  },
  {
   "cell_type": "code",
   "execution_count": 32,
   "metadata": {
    "collapsed": false,
    "deletable": true,
    "editable": true
   },
   "outputs": [
    {
     "data": {
      "text/html": [
       "<div>\n",
       "<table border=\"1\" class=\"dataframe\">\n",
       "  <thead>\n",
       "    <tr style=\"text-align: right;\">\n",
       "      <th></th>\n",
       "      <th>word_match</th>\n",
       "      <th>tfidf_word_match</th>\n",
       "      <th>fuzz_qratio</th>\n",
       "      <th>fuzz_wratio</th>\n",
       "      <th>fuzz_partial_ratio</th>\n",
       "      <th>fuzz_partial_token_set_ratio</th>\n",
       "      <th>fuzz_partial_token_sort_ratio</th>\n",
       "      <th>fuzz_token_set_ratio</th>\n",
       "      <th>fuzz_token_sort_ratio</th>\n",
       "      <th>len_q1</th>\n",
       "      <th>...</th>\n",
       "      <th>cityblock_distance</th>\n",
       "      <th>jaccard_distance</th>\n",
       "      <th>canberra_distance</th>\n",
       "      <th>euclidean_distance</th>\n",
       "      <th>minkowski_distance</th>\n",
       "      <th>braycurtis_distance</th>\n",
       "      <th>skew_q1vec</th>\n",
       "      <th>skew_q2vec</th>\n",
       "      <th>kur_q1vec</th>\n",
       "      <th>kur_q2vec</th>\n",
       "    </tr>\n",
       "  </thead>\n",
       "  <tbody>\n",
       "    <tr>\n",
       "      <th>289607</th>\n",
       "      <td>0.545455</td>\n",
       "      <td>0.564167</td>\n",
       "      <td>40</td>\n",
       "      <td>86</td>\n",
       "      <td>58</td>\n",
       "      <td>100</td>\n",
       "      <td>63</td>\n",
       "      <td>78</td>\n",
       "      <td>39</td>\n",
       "      <td>31</td>\n",
       "      <td>...</td>\n",
       "      <td>7.800209</td>\n",
       "      <td>1.0</td>\n",
       "      <td>137.943319</td>\n",
       "      <td>0.560420</td>\n",
       "      <td>0.250547</td>\n",
       "      <td>0.307790</td>\n",
       "      <td>-0.259497</td>\n",
       "      <td>-0.216799</td>\n",
       "      <td>0.225005</td>\n",
       "      <td>0.431887</td>\n",
       "    </tr>\n",
       "    <tr>\n",
       "      <th>87205</th>\n",
       "      <td>0.210526</td>\n",
       "      <td>0.243340</td>\n",
       "      <td>43</td>\n",
       "      <td>63</td>\n",
       "      <td>45</td>\n",
       "      <td>100</td>\n",
       "      <td>48</td>\n",
       "      <td>66</td>\n",
       "      <td>48</td>\n",
       "      <td>103</td>\n",
       "      <td>...</td>\n",
       "      <td>12.582950</td>\n",
       "      <td>1.0</td>\n",
       "      <td>162.423454</td>\n",
       "      <td>0.918086</td>\n",
       "      <td>0.416813</td>\n",
       "      <td>0.506465</td>\n",
       "      <td>0.290964</td>\n",
       "      <td>-0.077883</td>\n",
       "      <td>0.039805</td>\n",
       "      <td>-0.012489</td>\n",
       "    </tr>\n",
       "    <tr>\n",
       "      <th>240151</th>\n",
       "      <td>0.000000</td>\n",
       "      <td>0.000000</td>\n",
       "      <td>10</td>\n",
       "      <td>17</td>\n",
       "      <td>33</td>\n",
       "      <td>32</td>\n",
       "      <td>32</td>\n",
       "      <td>18</td>\n",
       "      <td>18</td>\n",
       "      <td>56</td>\n",
       "      <td>...</td>\n",
       "      <td>16.626272</td>\n",
       "      <td>1.0</td>\n",
       "      <td>195.608547</td>\n",
       "      <td>1.211239</td>\n",
       "      <td>0.552372</td>\n",
       "      <td>0.742914</td>\n",
       "      <td>0.006145</td>\n",
       "      <td>0.311841</td>\n",
       "      <td>-0.314150</td>\n",
       "      <td>0.070910</td>\n",
       "    </tr>\n",
       "    <tr>\n",
       "      <th>270656</th>\n",
       "      <td>0.272727</td>\n",
       "      <td>0.303430</td>\n",
       "      <td>38</td>\n",
       "      <td>86</td>\n",
       "      <td>47</td>\n",
       "      <td>100</td>\n",
       "      <td>51</td>\n",
       "      <td>69</td>\n",
       "      <td>50</td>\n",
       "      <td>156</td>\n",
       "      <td>...</td>\n",
       "      <td>7.968383</td>\n",
       "      <td>1.0</td>\n",
       "      <td>135.096929</td>\n",
       "      <td>0.568729</td>\n",
       "      <td>0.253773</td>\n",
       "      <td>0.307257</td>\n",
       "      <td>0.054379</td>\n",
       "      <td>-0.085033</td>\n",
       "      <td>0.045566</td>\n",
       "      <td>-0.047354</td>\n",
       "    </tr>\n",
       "    <tr>\n",
       "      <th>329996</th>\n",
       "      <td>0.000000</td>\n",
       "      <td>0.000000</td>\n",
       "      <td>79</td>\n",
       "      <td>86</td>\n",
       "      <td>88</td>\n",
       "      <td>100</td>\n",
       "      <td>100</td>\n",
       "      <td>100</td>\n",
       "      <td>79</td>\n",
       "      <td>16</td>\n",
       "      <td>...</td>\n",
       "      <td>7.640873</td>\n",
       "      <td>1.0</td>\n",
       "      <td>127.142617</td>\n",
       "      <td>0.555328</td>\n",
       "      <td>0.253177</td>\n",
       "      <td>0.286035</td>\n",
       "      <td>-0.171085</td>\n",
       "      <td>-0.117687</td>\n",
       "      <td>-0.353976</td>\n",
       "      <td>0.070035</td>\n",
       "    </tr>\n",
       "  </tbody>\n",
       "</table>\n",
       "<p>5 rows × 29 columns</p>\n",
       "</div>"
      ],
      "text/plain": [
       "        word_match  tfidf_word_match  fuzz_qratio  fuzz_wratio  \\\n",
       "289607    0.545455          0.564167           40           86   \n",
       "87205     0.210526          0.243340           43           63   \n",
       "240151    0.000000          0.000000           10           17   \n",
       "270656    0.272727          0.303430           38           86   \n",
       "329996    0.000000          0.000000           79           86   \n",
       "\n",
       "        fuzz_partial_ratio  fuzz_partial_token_set_ratio  \\\n",
       "289607                  58                           100   \n",
       "87205                   45                           100   \n",
       "240151                  33                            32   \n",
       "270656                  47                           100   \n",
       "329996                  88                           100   \n",
       "\n",
       "        fuzz_partial_token_sort_ratio  fuzz_token_set_ratio  \\\n",
       "289607                             63                    78   \n",
       "87205                              48                    66   \n",
       "240151                             32                    18   \n",
       "270656                             51                    69   \n",
       "329996                            100                   100   \n",
       "\n",
       "        fuzz_token_sort_ratio  len_q1    ...      cityblock_distance  \\\n",
       "289607                     39      31    ...                7.800209   \n",
       "87205                      48     103    ...               12.582950   \n",
       "240151                     18      56    ...               16.626272   \n",
       "270656                     50     156    ...                7.968383   \n",
       "329996                     79      16    ...                7.640873   \n",
       "\n",
       "        jaccard_distance  canberra_distance  euclidean_distance  \\\n",
       "289607               1.0         137.943319            0.560420   \n",
       "87205                1.0         162.423454            0.918086   \n",
       "240151               1.0         195.608547            1.211239   \n",
       "270656               1.0         135.096929            0.568729   \n",
       "329996               1.0         127.142617            0.555328   \n",
       "\n",
       "        minkowski_distance  braycurtis_distance  skew_q1vec  skew_q2vec  \\\n",
       "289607            0.250547             0.307790   -0.259497   -0.216799   \n",
       "87205             0.416813             0.506465    0.290964   -0.077883   \n",
       "240151            0.552372             0.742914    0.006145    0.311841   \n",
       "270656            0.253773             0.307257    0.054379   -0.085033   \n",
       "329996            0.253177             0.286035   -0.171085   -0.117687   \n",
       "\n",
       "        kur_q1vec  kur_q2vec  \n",
       "289607   0.225005   0.431887  \n",
       "87205    0.039805  -0.012489  \n",
       "240151  -0.314150   0.070910  \n",
       "270656   0.045566  -0.047354  \n",
       "329996  -0.353976   0.070035  \n",
       "\n",
       "[5 rows x 29 columns]"
      ]
     },
     "execution_count": 32,
     "metadata": {},
     "output_type": "execute_result"
    }
   ],
   "source": [
    "x_train.head()\n",
    "#x_train = x_train['tfidf_word_match']\n",
    "#print(x_train.shape)\n",
    "#y_train"
   ]
  },
  {
   "cell_type": "code",
   "execution_count": 45,
   "metadata": {
    "collapsed": false,
    "deletable": true,
    "editable": true
   },
   "outputs": [
    {
     "name": "stdout",
     "output_type": "stream",
     "text": [
      "[0]\ttrain-logloss:0.682851\tvalid-logloss:0.682872\n",
      "Multiple eval metrics have been passed: 'valid-logloss' will be used for early stopping.\n",
      "\n",
      "Will train until valid-logloss hasn't improved in 50 rounds.\n",
      "[50]\ttrain-logloss:0.437645\tvalid-logloss:0.438394\n",
      "[100]\ttrain-logloss:0.372013\tvalid-logloss:0.37335\n",
      "[150]\ttrain-logloss:0.349759\tvalid-logloss:0.351577\n",
      "[200]\ttrain-logloss:0.340745\tvalid-logloss:0.342998\n",
      "[250]\ttrain-logloss:0.33652\tvalid-logloss:0.339151\n",
      "[300]\ttrain-logloss:0.333475\tvalid-logloss:0.336436\n",
      "[350]\ttrain-logloss:0.330907\tvalid-logloss:0.334247\n",
      "[400]\ttrain-logloss:0.32829\tvalid-logloss:0.332104\n",
      "[450]\ttrain-logloss:0.325933\tvalid-logloss:0.33019\n",
      "[500]\ttrain-logloss:0.323552\tvalid-logloss:0.328257\n",
      "[550]\ttrain-logloss:0.321611\tvalid-logloss:0.326761\n",
      "[600]\ttrain-logloss:0.319776\tvalid-logloss:0.325383\n",
      "[650]\ttrain-logloss:0.318279\tvalid-logloss:0.324312\n",
      "[700]\ttrain-logloss:0.316727\tvalid-logloss:0.323218\n",
      "[750]\ttrain-logloss:0.315209\tvalid-logloss:0.322137\n",
      "[800]\ttrain-logloss:0.313873\tvalid-logloss:0.321181\n",
      "[850]\ttrain-logloss:0.312679\tvalid-logloss:0.320402\n",
      "[900]\ttrain-logloss:0.31144\tvalid-logloss:0.319593\n",
      "[950]\ttrain-logloss:0.310333\tvalid-logloss:0.318868\n",
      "[1000]\ttrain-logloss:0.309177\tvalid-logloss:0.318133\n",
      "[1050]\ttrain-logloss:0.308025\tvalid-logloss:0.317402\n",
      "[1100]\ttrain-logloss:0.30699\tvalid-logloss:0.31676\n",
      "[1150]\ttrain-logloss:0.305997\tvalid-logloss:0.316157\n",
      "[1200]\ttrain-logloss:0.305078\tvalid-logloss:0.31558\n",
      "[1250]\ttrain-logloss:0.304082\tvalid-logloss:0.314976\n",
      "[1300]\ttrain-logloss:0.303078\tvalid-logloss:0.314376\n",
      "[1350]\ttrain-logloss:0.302216\tvalid-logloss:0.313879\n",
      "[1400]\ttrain-logloss:0.301372\tvalid-logloss:0.313404\n",
      "[1450]\ttrain-logloss:0.30048\tvalid-logloss:0.312896\n",
      "[1500]\ttrain-logloss:0.29963\tvalid-logloss:0.312407\n",
      "[1550]\ttrain-logloss:0.298724\tvalid-logloss:0.311882\n",
      "[1600]\ttrain-logloss:0.297893\tvalid-logloss:0.311372\n",
      "[1650]\ttrain-logloss:0.297075\tvalid-logloss:0.310888\n",
      "[1700]\ttrain-logloss:0.296314\tvalid-logloss:0.310462\n",
      "[1750]\ttrain-logloss:0.295441\tvalid-logloss:0.309962\n",
      "[1800]\ttrain-logloss:0.294723\tvalid-logloss:0.309562\n",
      "[1850]\ttrain-logloss:0.293898\tvalid-logloss:0.309105\n",
      "[1900]\ttrain-logloss:0.293059\tvalid-logloss:0.30864\n",
      "[1950]\ttrain-logloss:0.292324\tvalid-logloss:0.308238\n",
      "[2000]\ttrain-logloss:0.291575\tvalid-logloss:0.307808\n",
      "[2050]\ttrain-logloss:0.290828\tvalid-logloss:0.307375\n",
      "[2100]\ttrain-logloss:0.290122\tvalid-logloss:0.306992\n",
      "[2150]\ttrain-logloss:0.289405\tvalid-logloss:0.306611\n",
      "[2200]\ttrain-logloss:0.288652\tvalid-logloss:0.306209\n",
      "[2250]\ttrain-logloss:0.287981\tvalid-logloss:0.305858\n",
      "[2300]\ttrain-logloss:0.287297\tvalid-logloss:0.305481\n",
      "[2350]\ttrain-logloss:0.286669\tvalid-logloss:0.305143\n",
      "[2400]\ttrain-logloss:0.286034\tvalid-logloss:0.304799\n",
      "[2450]\ttrain-logloss:0.285333\tvalid-logloss:0.304412\n",
      "[2499]\ttrain-logloss:0.284686\tvalid-logloss:0.304071\n"
     ]
    }
   ],
   "source": [
    "d_train = xgb.DMatrix(x_train, label=y_train)\n",
    "d_valid = xgb.DMatrix(x_valid, label=y_valid)\n",
    "\n",
    "num_round = 2500\n",
    "watchlist = [(d_train, 'train'), (d_valid, 'valid')]\n",
    "\n",
    "parm = {}\n",
    "parm['max_depth'] = 6\n",
    "parm['eta'] = 0.02 #learning_rate\n",
    "parm['objective'] = 'binary:logistic'\n",
    "parm['eval_metric'] = 'logloss'\n",
    "parm[\"subsample\"] = 0.8\n",
    "parm[\"colsample_bytree\"] = 0.8\n",
    "\n",
    "\n",
    "bst = xgb.train(parm, d_train, num_round, watchlist, early_stopping_rounds=50, verbose_eval=50)\n"
   ]
  },
  {
   "cell_type": "code",
   "execution_count": 172,
   "metadata": {
    "collapsed": false,
    "deletable": true,
    "editable": true
   },
   "outputs": [
    {
     "name": "stdout",
     "output_type": "stream",
     "text": [
      "Original AUC: 0.780553200628\n",
      "   TFIDF AUC: 0.77056466105\n",
      " difflib AUC: 0.731927259142\n"
     ]
    }
   ],
   "source": [
    "from sklearn.metrics import roc_auc_score\n",
    "print('Original AUC:', roc_auc_score(df_train['is_duplicate'], word_match_train))\n",
    "print('   TFIDF AUC:', roc_auc_score(df_train['is_duplicate'], tfidf_word_match_train.fillna(0)))\n",
    "print(' difflib AUC:', roc_auc_score(df_train['is_duplicate'], diff_seq_match_train))"
   ]
  },
  {
   "cell_type": "code",
   "execution_count": 46,
   "metadata": {
    "collapsed": false,
    "deletable": true,
    "editable": true
   },
   "outputs": [
    {
     "data": {
      "image/png": "[encoded data removed]",
      "text/plain": [
       "<matplotlib.figure.Figure at 0x142680710>"
      ]
     },
     "metadata": {},
     "output_type": "display_data"
    }
   ],
   "source": [
    "plt.rcParams['figure.figsize'] = (10.0, 10.0)\n",
    "xgb.plot_importance(bst); plt.show()"
   ]
  },
  {
   "cell_type": "markdown",
   "metadata": {
    "deletable": true,
    "editable": true
   },
   "source": [
    "## Predict for submission"
   ]
  },
  {
   "cell_type": "markdown",
   "metadata": {
    "deletable": true,
    "editable": true
   },
   "source": [
    "### Generate features for test data"
   ]
  },
  {
   "cell_type": "code",
   "execution_count": 10,
   "metadata": {
    "collapsed": false,
    "deletable": true,
    "editable": true
   },
   "outputs": [
    {
     "name": "stderr",
     "output_type": "stream",
     "text": [
      "0it [00:00, ?it/s]/Users/jon/anaconda/envs/ML3/lib/python3.6/site-packages/ipykernel/__main__.py:15: RuntimeWarning: invalid value encountered in double_scalars\n",
      "2345796it [08:54, 4386.49it/s]\n",
      "100it [00:00, 998.33it/s]"
     ]
    },
    {
     "name": "stdout",
     "output_type": "stream",
     "text": [
      "Q1 sent2vec finished.\n"
     ]
    },
    {
     "name": "stderr",
     "output_type": "stream",
     "text": [
      "2345796it [08:41, 4494.46it/s]\n"
     ]
    },
    {
     "name": "stdout",
     "output_type": "stream",
     "text": [
      "Q2 sent2vec finished.\n",
      "9/11 Skew Q2 Vec finished.\n",
      "10/11 Kurtosis Q1 Vec finished.\n",
      "11/11 Kurtosis Q2 Vec finished.\n"
     ]
    }
   ],
   "source": [
    "# Generate test features\n",
    "\n",
    "# #Word match and TFIDF word match\n",
    "# x_test = pd.DataFrame()\n",
    "# x_test['word_match'] = df_test.apply(word_match_share, axis=1, raw=True)\n",
    "# x_test['tfidf_word_match'] = df_test.apply(tfidf_word_match_share, axis=1, raw=True)\n",
    "# x_test['diff_seq_match'] = df_test.apply(diff_seq_matcher, axis=1, raw=True)\n",
    "\n",
    "# #Fuzzywuzzy\n",
    "# x_test['fuzz_qratio'] = df_test.apply(lambda x: fuzz.QRatio(str(x['question1']), str(x['question2'])), axis=1)\n",
    "# print(\"1/7 QRatio finished.\")\n",
    "# x_test['fuzz_wratio'] = df_test.apply(lambda x: fuzz.WRatio(str(x['question1']), str(x['question2'])), axis=1)\n",
    "# print(\"2/7 WRatio finished.\")\n",
    "# x_test['fuzz_partial_ratio'] = df_test.apply(lambda x: fuzz.partial_ratio(str(x['question1']), str(x['question2'])), axis=1)\n",
    "# print(\"3/7 Partial Ratio finished.\")\n",
    "# x_test['fuzz_partial_token_set_ratio'] = df_test.apply(lambda x: fuzz.partial_token_set_ratio(str(x['question1']), str(x['question2'])), axis=1)\n",
    "# print(\"4/7 Partial Token Set Ratio finished.\")\n",
    "# x_test['fuzz_partial_token_sort_ratio'] = df_test.apply(lambda x: fuzz.partial_token_sort_ratio(str(x['question1']), str(x['question2'])), axis=1)\n",
    "# print(\"5/7 Partial Token Sort Ratio finished.\")\n",
    "# x_test['fuzz_token_set_ratio'] = df_test.apply(lambda x: fuzz.token_set_ratio(str(x['question1']), str(x['question2'])), axis=1)\n",
    "# print(\"6/7 Token Set Ratio finished.\")\n",
    "# x_test['fuzz_token_sort_ratio'] = df_test.apply(lambda x: fuzz.token_sort_ratio(str(x['question1']), str(x['question2'])), axis=1)\n",
    "# print(\"7/7 Token Sort Ratio finished.\")\n",
    "\n",
    "# #Basic ones\n",
    "# x_test['len_q1'] = df_test.question1.apply(lambda x: len(str(x)))\n",
    "# x_test['len_q2'] = df_test.question2.apply(lambda x: len(str(x)))\n",
    "# x_test['diff_len'] = x_test.len_q1 - x_test.len_q2\n",
    "# x_test['len_char_q1'] = df_test.question1.apply(lambda x: len(''.join(set(str(x).replace(' ', '')))))\n",
    "# x_test['len_char_q2'] = df_test.question2.apply(lambda x: len(''.join(set(str(x).replace(' ', '')))))\n",
    "# x_test['len_word_q1'] = df_test.question1.apply(lambda x: len(str(x).split()))\n",
    "# x_test['len_word_q2'] = df_test.question2.apply(lambda x: len(str(x).split()))\n",
    "\n",
    "\n",
    "# #Word2Vec\n",
    "# x_test['wmd'] = df_test.apply(lambda x: wmd(x['question1'], x['question2']), axis=1)\n",
    "# print(\"Word Mover Distince finished.\")\n",
    "# x_test['norm_wmd'] = df_test.apply(lambda x: norm_wmd(x['question1'], x['question2']), axis=1)\n",
    "# print(\"Normalize Word Mover Distince finished.\")\n",
    "\n",
    "#model = gensim.models.KeyedVectors.load_word2vec_format('input/GoogleNews-vectors-negative300.bin.gz', binary=True)\n",
    "#print(\"Model built.\")\n",
    "\n",
    "question1_vectors_test = np.zeros((df_test.shape[0], 300))\n",
    "error_count_test = 0\n",
    "\n",
    "for i, q in tqdm(enumerate(df_test.question1.values)):\n",
    "    question1_vectors_test[i, :] = sent2vec(q)\n",
    "print(\"Q1 sent2vec finished.\")\n",
    "\n",
    "question2_vectors_test  = np.zeros((df_test.shape[0], 300))\n",
    "for i, q in tqdm(enumerate(df_test.question2.values)):\n",
    "    question2_vectors_test[i, :] = sent2vec(q)\n",
    "print(\"Q2 sent2vec finished.\")\n",
    "    \n",
    "# x_test['cosine_distance'] = [cosine(x, y) for (x, y) in zip(np.nan_to_num(question1_vectors_test), np.nan_to_num(question2_vectors_test))]\n",
    "# print(\"1/11 Cosine Distance finished.\")\n",
    "# x_test['cityblock_distance'] = [cityblock(x, y) for (x, y) in zip(np.nan_to_num(question1_vectors_test), np.nan_to_num(question2_vectors_test))]\n",
    "# print(\"2/11 Cityblock Distance finished.\")\n",
    "# x_test['jaccard_distance'] = [jaccard(x, y) for (x, y) in zip(np.nan_to_num(question1_vectors_test), np.nan_to_num(question2_vectors_test))]\n",
    "# print(\"3/11 Jaccard Distance finished.\")\n",
    "# x_test['canberra_distance'] = [canberra(x, y) for (x, y) in zip(np.nan_to_num(question1_vectors_test), np.nan_to_num(question2_vectors_test))]\n",
    "# print(\"4/11 Canberra Distance finished.\")\n",
    "# x_test['euclidean_distance'] = [euclidean(x, y) for (x, y) in zip(np.nan_to_num(question1_vectors_test), np.nan_to_num(question2_vectors_test))]\n",
    "# print(\"5/11 Euclidean Distance finished.\")\n",
    "# x_test['minkowski_distance'] = [minkowski(x, y, 3) for (x, y) in zip(np.nan_to_num(question1_vectors_test), np.nan_to_num(question2_vectors_test))]\n",
    "# print(\"6/11 Minkowski Distance finished.\")\n",
    "# x_test['braycurtis_distance'] = [braycurtis(x, y) for (x, y) in zip(np.nan_to_num(question1_vectors_test), np.nan_to_num(question2_vectors_test))]\n",
    "# print(\"7/11 Braycurtis Distance finished.\")\n",
    "# x_test['skew_q1vec'] = [skew(x) for x in np.nan_to_num(question1_vectors_test)]\n",
    "# print(\"8/11 Skew Q1 Vec finished.\")\n",
    "x_test['skew_q2vec'] = [skew(x) for x in np.nan_to_num(question2_vectors_test)]\n",
    "print(\"9/11 Skew Q2 Vec finished.\")\n",
    "x_test['kur_q1vec'] = [kurtosis(x) for x in np.nan_to_num(question1_vectors_test)]\n",
    "print(\"10/11 Kurtosis Q1 Vec finished.\")\n",
    "x_test['kur_q2vec'] = [kurtosis(x) for x in np.nan_to_num(question2_vectors_test)]\n",
    "print(\"11/11 Kurtosis Q2 Vec finished.\")\n"
   ]
  },
  {
   "cell_type": "code",
   "execution_count": null,
   "metadata": {
    "collapsed": true,
    "deletable": true,
    "editable": true
   },
   "outputs": [],
   "source": []
  },
  {
   "cell_type": "code",
   "execution_count": 11,
   "metadata": {
    "collapsed": false,
    "deletable": true,
    "editable": true
   },
   "outputs": [
    {
     "data": {
      "text/html": [
       "<div>\n",
       "<table border=\"1\" class=\"dataframe\">\n",
       "  <thead>\n",
       "    <tr style=\"text-align: right;\">\n",
       "      <th></th>\n",
       "      <th>word_match</th>\n",
       "      <th>tfidf_word_match</th>\n",
       "      <th>fuzz_qratio</th>\n",
       "      <th>fuzz_wratio</th>\n",
       "      <th>fuzz_partial_ratio</th>\n",
       "      <th>fuzz_partial_token_set_ratio</th>\n",
       "      <th>fuzz_partial_token_sort_ratio</th>\n",
       "      <th>fuzz_token_set_ratio</th>\n",
       "      <th>fuzz_token_sort_ratio</th>\n",
       "      <th>len_q1</th>\n",
       "      <th>...</th>\n",
       "      <th>cityblock_distance</th>\n",
       "      <th>jaccard_distance</th>\n",
       "      <th>canberra_distance</th>\n",
       "      <th>euclidean_distance</th>\n",
       "      <th>minkowski_distance</th>\n",
       "      <th>braycurtis_distance</th>\n",
       "      <th>skew_q1vec</th>\n",
       "      <th>skew_q2vec</th>\n",
       "      <th>kur_q1vec</th>\n",
       "      <th>kur_q2vec</th>\n",
       "    </tr>\n",
       "  </thead>\n",
       "  <tbody>\n",
       "    <tr>\n",
       "      <th>0</th>\n",
       "      <td>0.266667</td>\n",
       "      <td>0.274019</td>\n",
       "      <td>37</td>\n",
       "      <td>51</td>\n",
       "      <td>48</td>\n",
       "      <td>100</td>\n",
       "      <td>56</td>\n",
       "      <td>54</td>\n",
       "      <td>50</td>\n",
       "      <td>57</td>\n",
       "      <td>...</td>\n",
       "      <td>12.006720</td>\n",
       "      <td>1.0</td>\n",
       "      <td>164.254264</td>\n",
       "      <td>0.889327</td>\n",
       "      <td>0.407153</td>\n",
       "      <td>0.483565</td>\n",
       "      <td>0.045990</td>\n",
       "      <td>0.009958</td>\n",
       "      <td>0.039938</td>\n",
       "      <td>-0.144866</td>\n",
       "    </tr>\n",
       "    <tr>\n",
       "      <th>1</th>\n",
       "      <td>0.500000</td>\n",
       "      <td>0.480962</td>\n",
       "      <td>47</td>\n",
       "      <td>86</td>\n",
       "      <td>53</td>\n",
       "      <td>100</td>\n",
       "      <td>64</td>\n",
       "      <td>82</td>\n",
       "      <td>58</td>\n",
       "      <td>66</td>\n",
       "      <td>...</td>\n",
       "      <td>6.501658</td>\n",
       "      <td>1.0</td>\n",
       "      <td>115.512012</td>\n",
       "      <td>0.466698</td>\n",
       "      <td>0.210239</td>\n",
       "      <td>0.245248</td>\n",
       "      <td>-0.017419</td>\n",
       "      <td>-0.046821</td>\n",
       "      <td>0.207580</td>\n",
       "      <td>-0.042937</td>\n",
       "    </tr>\n",
       "    <tr>\n",
       "      <th>2</th>\n",
       "      <td>0.444444</td>\n",
       "      <td>0.468893</td>\n",
       "      <td>57</td>\n",
       "      <td>86</td>\n",
       "      <td>76</td>\n",
       "      <td>100</td>\n",
       "      <td>68</td>\n",
       "      <td>92</td>\n",
       "      <td>55</td>\n",
       "      <td>60</td>\n",
       "      <td>...</td>\n",
       "      <td>8.129246</td>\n",
       "      <td>1.0</td>\n",
       "      <td>125.626922</td>\n",
       "      <td>0.572015</td>\n",
       "      <td>0.253134</td>\n",
       "      <td>0.299802</td>\n",
       "      <td>0.072835</td>\n",
       "      <td>-0.058206</td>\n",
       "      <td>-0.505310</td>\n",
       "      <td>-0.379896</td>\n",
       "    </tr>\n",
       "    <tr>\n",
       "      <th>3</th>\n",
       "      <td>0.000000</td>\n",
       "      <td>0.000000</td>\n",
       "      <td>52</td>\n",
       "      <td>53</td>\n",
       "      <td>53</td>\n",
       "      <td>62</td>\n",
       "      <td>62</td>\n",
       "      <td>52</td>\n",
       "      <td>52</td>\n",
       "      <td>27</td>\n",
       "      <td>...</td>\n",
       "      <td>10.918439</td>\n",
       "      <td>1.0</td>\n",
       "      <td>159.496524</td>\n",
       "      <td>0.799568</td>\n",
       "      <td>0.366312</td>\n",
       "      <td>0.438647</td>\n",
       "      <td>0.060417</td>\n",
       "      <td>0.069599</td>\n",
       "      <td>-0.241064</td>\n",
       "      <td>0.774025</td>\n",
       "    </tr>\n",
       "    <tr>\n",
       "      <th>4</th>\n",
       "      <td>0.800000</td>\n",
       "      <td>1.000000</td>\n",
       "      <td>70</td>\n",
       "      <td>70</td>\n",
       "      <td>69</td>\n",
       "      <td>100</td>\n",
       "      <td>67</td>\n",
       "      <td>74</td>\n",
       "      <td>66</td>\n",
       "      <td>32</td>\n",
       "      <td>...</td>\n",
       "      <td>0.000000</td>\n",
       "      <td>0.0</td>\n",
       "      <td>0.000000</td>\n",
       "      <td>0.000000</td>\n",
       "      <td>0.000000</td>\n",
       "      <td>0.000000</td>\n",
       "      <td>0.006085</td>\n",
       "      <td>0.006085</td>\n",
       "      <td>-0.081313</td>\n",
       "      <td>-0.081313</td>\n",
       "    </tr>\n",
       "  </tbody>\n",
       "</table>\n",
       "<p>5 rows × 29 columns</p>\n",
       "</div>"
      ],
      "text/plain": [
       "   word_match  tfidf_word_match  fuzz_qratio  fuzz_wratio  fuzz_partial_ratio  \\\n",
       "0    0.266667          0.274019           37           51                  48   \n",
       "1    0.500000          0.480962           47           86                  53   \n",
       "2    0.444444          0.468893           57           86                  76   \n",
       "3    0.000000          0.000000           52           53                  53   \n",
       "4    0.800000          1.000000           70           70                  69   \n",
       "\n",
       "   fuzz_partial_token_set_ratio  fuzz_partial_token_sort_ratio  \\\n",
       "0                           100                             56   \n",
       "1                           100                             64   \n",
       "2                           100                             68   \n",
       "3                            62                             62   \n",
       "4                           100                             67   \n",
       "\n",
       "   fuzz_token_set_ratio  fuzz_token_sort_ratio  len_q1    ...      \\\n",
       "0                    54                     50      57    ...       \n",
       "1                    82                     58      66    ...       \n",
       "2                    92                     55      60    ...       \n",
       "3                    52                     52      27    ...       \n",
       "4                    74                     66      32    ...       \n",
       "\n",
       "   cityblock_distance  jaccard_distance  canberra_distance  \\\n",
       "0           12.006720               1.0         164.254264   \n",
       "1            6.501658               1.0         115.512012   \n",
       "2            8.129246               1.0         125.626922   \n",
       "3           10.918439               1.0         159.496524   \n",
       "4            0.000000               0.0           0.000000   \n",
       "\n",
       "   euclidean_distance  minkowski_distance  braycurtis_distance  skew_q1vec  \\\n",
       "0            0.889327            0.407153             0.483565    0.045990   \n",
       "1            0.466698            0.210239             0.245248   -0.017419   \n",
       "2            0.572015            0.253134             0.299802    0.072835   \n",
       "3            0.799568            0.366312             0.438647    0.060417   \n",
       "4            0.000000            0.000000             0.000000    0.006085   \n",
       "\n",
       "   skew_q2vec  kur_q1vec  kur_q2vec  \n",
       "0    0.009958   0.039938  -0.144866  \n",
       "1   -0.046821   0.207580  -0.042937  \n",
       "2   -0.058206  -0.505310  -0.379896  \n",
       "3    0.069599  -0.241064   0.774025  \n",
       "4    0.006085  -0.081313  -0.081313  \n",
       "\n",
       "[5 rows x 29 columns]"
      ]
     },
     "execution_count": 11,
     "metadata": {},
     "output_type": "execute_result"
    }
   ],
   "source": [
    "x_test.head()"
   ]
  },
  {
   "cell_type": "code",
   "execution_count": 12,
   "metadata": {
    "collapsed": false,
    "deletable": true,
    "editable": true
   },
   "outputs": [],
   "source": [
    "x_test.to_pickle(\"pickle/x_test_wm_twm_fz_wmd_nwmd_w2v_bs.pkl\")\n",
    "\n",
    "#x_test = pd.read_pickle(\"pickle/x_test_wm_twm_fz_wmd_nwmd_w2v1-8_bs.pkl\")"
   ]
  },
  {
   "cell_type": "code",
   "execution_count": 31,
   "metadata": {
    "collapsed": false,
    "deletable": true,
    "editable": true
   },
   "outputs": [
    {
     "name": "stdout",
     "output_type": "stream",
     "text": [
      "[[-0.01342779  0.0322868   0.07401922 ..., -0.0103043  -0.05768261\n",
      "   0.0222911 ]\n",
      " [ 0.00540371  0.10717355  0.04093454 ..., -0.02451279  0.0303777\n",
      "  -0.00337005]\n",
      " [-0.01492303  0.03050235  0.06483509 ..., -0.0347058  -0.00064067\n",
      "  -0.03300255]\n",
      " ..., \n",
      " [-0.03489482 -0.08033339 -0.02088803 ...,  0.0259649  -0.02280894\n",
      "   0.07204901]\n",
      " [-0.01223908  0.0403446   0.08258027 ..., -0.08466225  0.00811381\n",
      "   0.02226976]\n",
      " [-0.00773443  0.07518598 -0.10746496 ...,  0.05542098  0.08763868\n",
      "   0.03684917]]\n"
     ]
    }
   ],
   "source": [
    "#del x_test['diff_seq_match']\n",
    "\n",
    "print(question1_vectors_test)\n"
   ]
  },
  {
   "cell_type": "markdown",
   "metadata": {
    "deletable": true,
    "editable": true
   },
   "source": [
    "### Predict and save output"
   ]
  },
  {
   "cell_type": "code",
   "execution_count": 47,
   "metadata": {
    "collapsed": false,
    "deletable": true,
    "editable": true
   },
   "outputs": [
    {
     "name": "stdout",
     "output_type": "stream",
     "text": [
      "Saved csv.\n"
     ]
    }
   ],
   "source": [
    "# Predict and save output\n",
    "d_test = xgb.DMatrix(x_test)\n",
    "p_test = bst.predict(d_test)\n",
    "\n",
    "sub = pd.DataFrame()\n",
    "sub['test_id'] = df_test['test_id']\n",
    "sub['is_duplicate'] = p_test\n",
    "sub.to_csv('output/wm_twm_fz_wmd_nwmd_w2v_bs_rb_xgb_08_2500_6_002.csv', index=False)\n",
    "print(\"Saved csv.\")"
   ]
  },
  {
   "cell_type": "code",
   "execution_count": null,
   "metadata": {
    "collapsed": true,
    "deletable": true,
    "editable": true
   },
   "outputs": [],
   "source": []
  }
 ],
 "metadata": {
  "anaconda-cloud": {},
  "kernelspec": {
   "display_name": "Python 3",
   "language": "python",
   "name": "python3"
  },
  "language_info": {
   "codemirror_mode": {
    "name": "ipython",
    "version": 3
   },
   "file_extension": ".py",
   "mimetype": "text/x-python",
   "name": "python",
   "nbconvert_exporter": "python",
   "pygments_lexer": "ipython3",
   "version": "3.6.0"
  }
 },
 "nbformat": 4,
 "nbformat_minor": 1
}
